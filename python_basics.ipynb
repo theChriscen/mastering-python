{
 "cells": [
  {
   "cell_type": "markdown",
   "id": "65c2a843",
   "metadata": {},
   "source": [
    "## Problem 1: Cryptocurrency Token Data\n",
    "This data structure represents information about different cryptocurrency tokens listed on a decentralized exchange (DEX).\n",
    "\n",
    "```python\n",
    "crypto_tokens = [\n",
    "    {\n",
    "        \"name\": \"Token A\",\n",
    "        \"symbol\": \"TKA\",\n",
    "        \"blockchain\": \"Ethereum\",\n",
    "        \"current_price_usd\": 100.0,\n",
    "        \"transaction_history\": [\n",
    "            {\n",
    "                \"date\": \"2024-01-10\",\n",
    "                \"prices\": {\n",
    "                    \"open\": 98.0,\n",
    "                    \"close\": 100.0,\n",
    "                    \"high\": 101.0,\n",
    "                    \"low\": 97.0\n",
    "                },\n",
    "                \"volume\": 12000\n",
    "            },\n",
    "            {\n",
    "                \"date\": \"2024-01-09\",\n",
    "                \"prices\": {\n",
    "                    \"open\": 97.0,\n",
    "                    \"close\": 98.0,\n",
    "                    \"high\": 99.0,\n",
    "                    \"low\": 96.0\n",
    "                },\n",
    "                \"volume\": 15000\n",
    "            }\n",
    "        ],\n",
    "        \"supported_chains\": [\"Ethereum\", \"Polygon\"]\n",
    "    },\n",
    "    {\n",
    "        \"name\": \"Token B\",\n",
    "        \"symbol\": \"TKB\",\n",
    "        \"blockchain\": \"Binance Smart Chain\",\n",
    "        \"current_price_usd\": 200.0,\n",
    "        \"transaction_history\": [\n",
    "            {\n",
    "                \"date\": \"2024-01-10\",\n",
    "                \"prices\": {\n",
    "                    \"open\": 198.0,\n",
    "                    \"close\": 200.0,\n",
    "                    \"high\": 202.0,\n",
    "                    \"low\": 196.0\n",
    "                },\n",
    "                \"volume\": 18000\n",
    "            },\n",
    "            {\n",
    "                \"date\": \"2024-01-09\",\n",
    "                \"prices\": {\n",
    "                    \"open\": 196.0,\n",
    "                    \"close\": 198.0,\n",
    "                    \"high\": 199.0,\n",
    "                    \"low\": 195.0\n",
    "                },\n",
    "                \"volume\": 17000\n",
    "            }\n",
    "        ],\n",
    "        \"supported_chains\": [\"Binance Smart Chain\", \"Avalanche\"]\n",
    "    },\n",
    "    {\n",
    "        \"name\": \"Token C\",\n",
    "        \"symbol\": \"TKC\",\n",
    "        \"blockchain\": \"Solana\",\n",
    "        \"current_price_usd\": 300.0,\n",
    "        \"transaction_history\": [\n",
    "            {\n",
    "                \"date\": \"2024-01-10\",\n",
    "                \"prices\": {\n",
    "                    \"open\": 295.0,\n",
    "                    \"close\": 300.0,\n",
    "                    \"high\": 302.0,\n",
    "                    \"low\": 294.0\n",
    "                },\n",
    "                \"volume\": 22000\n",
    "            },\n",
    "            {\n",
    "                \"date\": \"2024-01-09\",\n",
    "                \"prices\": {\n",
    "                    \"open\": 294.0,\n",
    "                    \"close\": 295.0,\n",
    "                    \"high\": 296.0,\n",
    "                    \"low\": 293.0\n",
    "                },\n",
    "                \"volume\": 21000\n",
    "            }\n",
    "        ],\n",
    "        \"supported_chains\": [\"Solana\", \"Fantom\"]\n",
    "    }\n",
    "]\n",
    "```\n",
    "\n"
   ]
  },
  {
   "cell_type": "code",
   "execution_count": 3,
   "id": "ed7191f5",
   "metadata": {},
   "outputs": [],
   "source": [
    "crypto_tokens = [\n",
    "    {\n",
    "        \"name\": \"Token A\",\n",
    "        \"symbol\": \"TKA\",\n",
    "        \"blockchain\": \"Ethereum\",\n",
    "        \"current_price_usd\": 100.0,\n",
    "        \"transaction_history\": [\n",
    "            {\n",
    "                \"date\": \"2024-01-10\",\n",
    "                \"prices\": {\n",
    "                    \"open\": 98.0,\n",
    "                    \"close\": 100.0,\n",
    "                    \"high\": 101.0,\n",
    "                    \"low\": 97.0\n",
    "                },\n",
    "                \"volume\": 12000\n",
    "            },\n",
    "            {\n",
    "                \"date\": \"2024-01-09\",\n",
    "                \"prices\": {\n",
    "                    \"open\": 97.0,\n",
    "                    \"close\": 98.0,\n",
    "                    \"high\": 99.0,\n",
    "                    \"low\": 96.0\n",
    "                },\n",
    "                \"volume\": 15000\n",
    "            }\n",
    "        ],\n",
    "        \"supported_chains\": [\"Ethereum\", \"Polygon\"]\n",
    "    },\n",
    "    {\n",
    "        \"name\": \"Token B\",\n",
    "        \"symbol\": \"TKB\",\n",
    "        \"blockchain\": \"Binance Smart Chain\",\n",
    "        \"current_price_usd\": 200.0,\n",
    "        \"transaction_history\": [\n",
    "            {\n",
    "                \"date\": \"2024-01-10\",\n",
    "                \"prices\": {\n",
    "                    \"open\": 198.0,\n",
    "                    \"close\": 200.0,\n",
    "                    \"high\": 202.0,\n",
    "                    \"low\": 196.0\n",
    "                },\n",
    "                \"volume\": 18000\n",
    "            },\n",
    "            {\n",
    "                \"date\": \"2024-01-09\",\n",
    "                \"prices\": {\n",
    "                    \"open\": 196.0,\n",
    "                    \"close\": 198.0,\n",
    "                    \"high\": 199.0,\n",
    "                    \"low\": 195.0\n",
    "                },\n",
    "                \"volume\": 17000\n",
    "            }\n",
    "        ],\n",
    "        \"supported_chains\": [\"Binance Smart Chain\", \"Avalanche\"]\n",
    "    },\n",
    "    {\n",
    "        \"name\": \"Token C\",\n",
    "        \"symbol\": \"TKC\",\n",
    "        \"blockchain\": \"Solana\",\n",
    "        \"current_price_usd\": 300.0,\n",
    "        \"transaction_history\": [\n",
    "            {\n",
    "                \"date\": \"2024-01-10\",\n",
    "                \"prices\": {\n",
    "                    \"open\": 295.0,\n",
    "                    \"close\": 300.0,\n",
    "                    \"high\": 302.0,\n",
    "                    \"low\": 294.0\n",
    "                },\n",
    "                \"volume\": 22000\n",
    "            },\n",
    "            {\n",
    "                \"date\": \"2024-01-09\",\n",
    "                \"prices\": {\n",
    "                    \"open\": 294.0,\n",
    "                    \"close\": 295.0,\n",
    "                    \"high\": 296.0,\n",
    "                    \"low\": 293.0\n",
    "                },\n",
    "                \"volume\": 21000\n",
    "            }\n",
    "        ],\n",
    "        \"supported_chains\": [\"Solana\", \"Fantom\"]\n",
    "    }\n",
    "]"
   ]
  },
  {
   "cell_type": "code",
   "execution_count": 8,
   "id": "e06c894f",
   "metadata": {},
   "outputs": [
    {
     "data": {
      "text/plain": [
       "200.0"
      ]
     },
     "execution_count": 8,
     "metadata": {},
     "output_type": "execute_result"
    }
   ],
   "source": [
    "# Q1: Display the current price of \"Token B\"\n",
    "crypto_tokens[1][\"current_price_usd\"]"
   ]
  },
  {
   "cell_type": "code",
   "execution_count": 7,
   "id": "ad70ab96",
   "metadata": {},
   "outputs": [
    {
     "data": {
      "text/plain": [
       "[{'name': 'Token A',\n",
       "  'symbol': 'TKA',\n",
       "  'blockchain': 'Ethereum',\n",
       "  'current_price_usd': 100.0,\n",
       "  'transaction_history': [{'date': '2024-01-10',\n",
       "    'prices': {'open': 98.0, 'close': 100.0, 'high': 101.0, 'low': 97.0},\n",
       "    'volume': 12000},\n",
       "   {'date': '2024-01-09',\n",
       "    'prices': {'open': 97.0, 'close': 98.0, 'high': 99.0, 'low': 96.0},\n",
       "    'volume': 15000}],\n",
       "  'supported_chains': ['Ethereum', 'Polygon']},\n",
       " {'name': 'Token B',\n",
       "  'symbol': 'TKB',\n",
       "  'blockchain': 'Binance Smart Chain',\n",
       "  'current_price_usd': 200.0,\n",
       "  'transaction_history': [{'date': '2024-01-10',\n",
       "    'prices': {'open': 198.0, 'close': 200.0, 'high': 202.0, 'low': 196.0},\n",
       "    'volume': 18000},\n",
       "   {'date': '2024-01-09',\n",
       "    'prices': {'open': 196.0, 'close': 198.0, 'high': 199.0, 'low': 195.0},\n",
       "    'volume': 17000}],\n",
       "  'supported_chains': ['Binance Smart Chain', 'Avalanche']},\n",
       " {'name': 'Token C',\n",
       "  'symbol': 'TKC',\n",
       "  'blockchain': 'Solana',\n",
       "  'current_price_usd': 300.0,\n",
       "  'transaction_history': [{'date': '2024-01-10',\n",
       "    'prices': {'open': 295.0, 'close': 300.0, 'high': 302.0, 'low': 294.0},\n",
       "    'volume': 22000},\n",
       "   {'date': '2024-01-09',\n",
       "    'prices': {'open': 294.0, 'close': 295.0, 'high': 296.0, 'low': 293.0},\n",
       "    'volume': 21000}],\n",
       "  'supported_chains': ['Solana', 'Fantom']},\n",
       " {'name': 'Token D',\n",
       "  'symbol': 'TDC',\n",
       "  'blockchain': 'Ethereum',\n",
       "  'current_price_usd': 500.0,\n",
       "  'transaction_history': [{'date': '2024-01-10',\n",
       "    'prices': {'open': 295.0, 'close': 300.0, 'high': 302.0, 'low': 294.0},\n",
       "    'volume': 22000},\n",
       "   {'date': '2024-01-09',\n",
       "    'prices': {'open': 294.0, 'close': 295.0, 'high': 296.0, 'low': 293.0},\n",
       "    'volume': 21000}],\n",
       "  'supported_chains': ['Solana', 'Fantom']},\n",
       " {'name': 'Token D',\n",
       "  'symbol': 'TDC',\n",
       "  'blockchain': 'Ethereum',\n",
       "  'current_price_usd': 500.0,\n",
       "  'transaction_history': [{'date': '2024-01-10',\n",
       "    'prices': {'open': 295.0, 'close': 300.0, 'high': 302.0, 'low': 294.0},\n",
       "    'volume': 22000},\n",
       "   {'date': '2024-01-09',\n",
       "    'prices': {'open': 294.0, 'close': 295.0, 'high': 296.0, 'low': 293.0},\n",
       "    'volume': 21000}],\n",
       "  'supported_chains': ['Solana', 'Fantom']}]"
      ]
     },
     "execution_count": 7,
     "metadata": {},
     "output_type": "execute_result"
    }
   ],
   "source": [
    "# Q2: Add a new token \"Token D\" with some initial data to the crypto_tokens list.\n",
    "\n",
    "crypto_tokens.append(\n",
    "       {\n",
    "        \"name\": \"Token D\",\n",
    "        \"symbol\": \"TDC\",\n",
    "        \"blockchain\": \"Ethereum\",\n",
    "        \"current_price_usd\": 500.0,\n",
    "        \"transaction_history\": [\n",
    "            {\n",
    "                \"date\": \"2024-01-10\",\n",
    "                \"prices\": {\n",
    "                    \"open\": 295.0,\n",
    "                    \"close\": 300.0,\n",
    "                    \"high\": 302.0,\n",
    "                    \"low\": 294.0\n",
    "                },\n",
    "                \"volume\": 22000\n",
    "            },\n",
    "            {\n",
    "                \"date\": \"2024-01-09\",\n",
    "                \"prices\": {\n",
    "                    \"open\": 294.0,\n",
    "                    \"close\": 295.0,\n",
    "                    \"high\": 296.0,\n",
    "                    \"low\": 293.0\n",
    "                },\n",
    "                \"volume\": 21000\n",
    "            }\n",
    "        ],\n",
    "        \"supported_chains\": [\"Solana\", \"Fantom\"]\n",
    "    } \n",
    "    \n",
    ")\n",
    "\n",
    "crypto_tokens"
   ]
  },
  {
   "cell_type": "code",
   "execution_count": null,
   "id": "25a0220b",
   "metadata": {},
   "outputs": [
    {
     "data": {
      "text/plain": [
       "310"
      ]
     },
     "execution_count": 9,
     "metadata": {},
     "output_type": "execute_result"
    }
   ],
   "source": [
    "# Q3: Update the current price of Token C to 310\n",
    "\n",
    "update_price = crypto_tokens[2][\"current_price_usd\"] = 310\n",
    "update_price\n",
    "\n"
   ]
  },
  {
   "cell_type": "code",
   "execution_count": 11,
   "id": "9868ffec",
   "metadata": {},
   "outputs": [
    {
     "data": {
      "text/plain": [
       "{'name': 'Token C',\n",
       " 'symbol': 'TKC',\n",
       " 'blockchain': 'Solana',\n",
       " 'current_price_usd': 310,\n",
       " 'transaction_history': [{'date': '2024-01-10',\n",
       "   'prices': {'open': 295.0, 'close': 300.0, 'high': 302.0, 'low': 294.0},\n",
       "   'volume': 22000},\n",
       "  {'date': '2024-01-09',\n",
       "   'prices': {'open': 294.0, 'close': 295.0, 'high': 296.0, 'low': 293.0},\n",
       "   'volume': 21000}],\n",
       " 'supported_chains': ['Solana', 'Fantom']}"
      ]
     },
     "execution_count": 11,
     "metadata": {},
     "output_type": "execute_result"
    }
   ],
   "source": [
    "crypto_tokens[2]"
   ]
  },
  {
   "cell_type": "code",
   "execution_count": 17,
   "id": "d116bd6d",
   "metadata": {},
   "outputs": [
    {
     "data": {
      "text/plain": [
       "{'name': 'Token A',\n",
       " 'symbol': 'TKA',\n",
       " 'blockchain': 'Ethereum',\n",
       " 'current_price_usd': 100.0,\n",
       " 'transaction_history': [{'date': '2024-01-10',\n",
       "   'prices': {'open': 98.0, 'close': 100.0, 'high': 101.0, 'low': 97.0},\n",
       "   'volume': 12000},\n",
       "  {}],\n",
       " 'supported_chains': ['Ethereum', 'Polygon']}"
      ]
     },
     "execution_count": 17,
     "metadata": {},
     "output_type": "execute_result"
    }
   ],
   "source": [
    "# Q4: Remove the transaction history for \"Token A\" on \"2024-01-09\"\n",
    "\n",
    "crypto_tokens[0][\"transaction_history\"][1].clear()\n",
    "\n",
    "crypto_tokens[0]"
   ]
  },
  {
   "cell_type": "code",
   "execution_count": 31,
   "id": "1fb7af2b",
   "metadata": {},
   "outputs": [
    {
     "data": {
      "text/plain": [
       "200.0"
      ]
     },
     "execution_count": 31,
     "metadata": {},
     "output_type": "execute_result"
    }
   ],
   "source": [
    "# Q5: Display the closing price of \"Token B[]\" on \"2024-01-01\"\n",
    "\n",
    "crypto_tokens[1][\"transaction_history\"][0][\"prices\"]['close']"
   ]
  },
  {
   "cell_type": "code",
   "execution_count": 35,
   "id": "398a7a49",
   "metadata": {},
   "outputs": [
    {
     "data": {
      "text/plain": [
       "{'name': 'Token A',\n",
       " 'symbol': 'TKA',\n",
       " 'blockchain': 'Ethereum',\n",
       " 'current_price_usd': 100.0,\n",
       " 'transaction_history': [{'date': '2024-01-10',\n",
       "   'prices': {'open': 99.0, 'close': 100.0, 'high': 101.0, 'low': 97.0},\n",
       "   'volume': 12000},\n",
       "  {}],\n",
       " 'supported_chains': ['Ethereum', 'Polygon']}"
      ]
     },
     "execution_count": 35,
     "metadata": {},
     "output_type": "execute_result"
    }
   ],
   "source": [
    "# Q6: Change the opening price of \"Token A\" on \"2024-01-01\" to 99.0\n",
    "\n",
    "crypto_tokens[0][\"transaction_history\"][0][\"prices\"][\"open\"]= 99.0\n",
    "\n",
    "crypto_tokens[0]"
   ]
  },
  {
   "cell_type": "code",
   "execution_count": 38,
   "id": "6e2077d9",
   "metadata": {},
   "outputs": [
    {
     "data": {
      "text/plain": [
       "{'name': 'Token C',\n",
       " 'symbol': 'TKC',\n",
       " 'blockchain': 'Solana',\n",
       " 'current_price_usd': 310,\n",
       " 'transaction_history': [{'date': '2024-01-10',\n",
       "   'prices': {'open': 295.0, 'close': 300.0, 'high': 302.0, 'low': 294.0},\n",
       "   'volume': 22000},\n",
       "  {'date': '2024-01-09',\n",
       "   'prices': {'open': 294.0, 'close': 295.0, 'high': 296.0, 'low': 293.0},\n",
       "   'volume': 21000},\n",
       "  {'date': '2024-01-10',\n",
       "   'prices': {'open': 296.0, 'close': 301.0, 'high': 305.0, 'low': 295.0},\n",
       "   'volume': 23000}],\n",
       " 'supported_chains': ['Solana', 'Fantom']}"
      ]
     },
     "execution_count": 38,
     "metadata": {},
     "output_type": "execute_result"
    }
   ],
   "source": [
    "# Q7: Add a new transaction history entry for \"Token C\" on \"2024-01-11\"\n",
    "\n",
    "crypto_tokens[2][\"transaction_history\"].append(\n",
    "    {'date': '2024-01-10',\n",
    "  'prices': {'open': 296.0, 'close': 301.0, 'high': 305.0, 'low': 295.0},\n",
    "  'volume': 23000}\n",
    ")\n",
    "\n",
    "crypto_tokens[2]"
   ]
  },
  {
   "cell_type": "code",
   "execution_count": 43,
   "id": "69aec3f8",
   "metadata": {},
   "outputs": [
    {
     "data": {
      "text/plain": [
       "{'name': 'Token B',\n",
       " 'symbol': 'TKB',\n",
       " 'blockchain': 'Binance Smart Chain',\n",
       " 'current_price_usd': 200.0,\n",
       " 'transaction_history': [{'date': '2024-01-10',\n",
       "   'prices': {'open': 198.0, 'close': 200.0, 'high': 202.0, 'low': 196.0},\n",
       "   'volume': 18000},\n",
       "  {'date': '2024-01-09',\n",
       "   'prices': {'open': 196.0, 'close': 198.0, 'high': 199.0, 'low': 195.0},\n",
       "   'volume': 17000}],\n",
       " 'supported_chains': ['Binance Smart Chain']}"
      ]
     },
     "execution_count": 43,
     "metadata": {},
     "output_type": "execute_result"
    }
   ],
   "source": [
    "# Q8: Remove \"Avalanche\" from the supported chains of \"Token B\"\n",
    "\n",
    "del crypto_tokens[1][\"supported_chains\"][1]\n",
    "\n",
    "crypto_tokens[1]"
   ]
  },
  {
   "cell_type": "markdown",
   "id": "9009117d",
   "metadata": {},
   "source": [
    "## Problem 2: Crypto Investment Portfolio\n",
    "This data structure represents a crypto investment portfolio, including various assets like tokens, stablecoins, and NFTs, along with their holdings and performance metrics.\n"
   ]
  },
  {
   "cell_type": "code",
   "execution_count": 7,
   "id": "910435c8",
   "metadata": {},
   "outputs": [],
   "source": [
    "crypto_portfolio = {\n",
    "    \"investor_name\": \"Jane Doe\",\n",
    "    \"portfolio_id\": \"JD1234\",\n",
    "    \"assets\": {\n",
    "        \"tokens\": [\n",
    "            {\n",
    "                \"ticker\": \"ETH\",\n",
    "                \"quantity\": 50,\n",
    "                \"purchase_price\": 2000.00,\n",
    "                \"current_price\": 2100.00\n",
    "            },\n",
    "            {\n",
    "                \"ticker\": \"BTC\",\n",
    "                \"quantity\": 30,\n",
    "                \"purchase_price\": 40000.00,\n",
    "                \"current_price\": 41000.00\n",
    "            }\n",
    "        ],\n",
    "        \"stablecoins\": [\n",
    "            {\n",
    "                \"identifier\": \"USDC\",\n",
    "                \"quantity\": 10000,\n",
    "                \"purchase_price\": 1.00,\n",
    "                \"current_price\": 1.00,\n",
    "                \"peg_currency\": \"USD\"\n",
    "            }\n",
    "        ],\n",
    "        \"nfts\": [\n",
    "            {\n",
    "                \"name\": \"CryptoArt 123\",\n",
    "                \"quantity\": 1,\n",
    "                \"purchase_price\": 5000.00,\n",
    "                \"current_price\": 5500.00\n",
    "            }\n",
    "        ]\n",
    "    },\n",
    "    \"cash_holdings_usd\": 10000.00,\n",
    "    \"investment_goals\": {\"retirement\": 2035, \"education\": 2025}\n",
    "}"
   ]
  },
  {
   "cell_type": "markdown",
   "id": "6e26ef32",
   "metadata": {},
   "source": [
    "Q1: Read Data  \n",
    "Task: Display the current price of the NFT \"CryptoArt 123\"."
   ]
  },
  {
   "cell_type": "code",
   "execution_count": 17,
   "id": "c5f00e29",
   "metadata": {},
   "outputs": [
    {
     "data": {
      "text/plain": [
       "5500.0"
      ]
     },
     "execution_count": 17,
     "metadata": {},
     "output_type": "execute_result"
    }
   ],
   "source": [
    "crypto_portfolio[\"assets\"][\"nfts\"][0][\"current_price\"]"
   ]
  },
  {
   "cell_type": "code",
   "execution_count": 22,
   "id": "13148cf4",
   "metadata": {},
   "outputs": [
    {
     "data": {
      "text/plain": [
       "{'investor_name': 'Jane Doe',\n",
       " 'portfolio_id': 'JD1234',\n",
       " 'assets': {'tokens': [{'ticker': 'ETH',\n",
       "    'quantity': 50,\n",
       "    'purchase_price': 2000.0,\n",
       "    'current_price': 2100.0},\n",
       "   {'ticker': 'BTC',\n",
       "    'quantity': 30,\n",
       "    'purchase_price': 40000.0,\n",
       "    'current_price': 41000.0},\n",
       "   {'ticker': 'ADA',\n",
       "    'quantity': 1000,\n",
       "    'purchase_price': 1.5,\n",
       "    'current_price': 1.6},\n",
       "   {'ticker': 'ADA',\n",
       "    'quantity': 1000,\n",
       "    'purchase_price': 1.5,\n",
       "    'current_price': 1.6}],\n",
       "  'stablecoins': [{'identifier': 'USDC',\n",
       "    'quantity': 10000,\n",
       "    'purchase_price': 1.0,\n",
       "    'current_price': 1.0,\n",
       "    'peg_currency': 'USD'}],\n",
       "  'nfts': [{'name': 'CryptoArt 123',\n",
       "    'quantity': 1,\n",
       "    'purchase_price': 5000.0,\n",
       "    'current_price': 5500.0}]},\n",
       " 'cash_holdings_usd': 10000.0,\n",
       " 'investment_goals': {'retirement': 2035, 'education': 2025}}"
      ]
     },
     "execution_count": 22,
     "metadata": {},
     "output_type": "execute_result"
    }
   ],
   "source": [
    "# Q2: Write Data: Task: Add a new token with ticker \"ADA\", 1000 units, a purchase price of 1.50, and a current price of 1.60 to the tokens in the assets.\n",
    "crypto_portfolio[\"assets\"][\"tokens\"].append({\n",
    "                \"ticker\": \"ADA\",\n",
    "                \"quantity\": 1000,\n",
    "                \"purchase_price\": 1.50,\n",
    "                \"current_price\": 1.60})\n",
    "\n",
    "crypto_portfolio"
   ]
  },
  {
   "cell_type": "code",
   "execution_count": null,
   "id": "054c3897",
   "metadata": {},
   "outputs": [
    {
     "data": {
      "text/plain": [
       "{'investor_name': 'Jane Doe',\n",
       " 'portfolio_id': 'JD1234',\n",
       " 'assets': {'tokens': [{'ticker': 'ETH',\n",
       "    'quantity': 60,\n",
       "    'purchase_price': 2000.0,\n",
       "    'current_price': 2100.0},\n",
       "   {'ticker': 'BTC',\n",
       "    'quantity': 30,\n",
       "    'purchase_price': 40000.0,\n",
       "    'current_price': 41000.0},\n",
       "   {'ticker': 'ADA',\n",
       "    'quantity': 1000,\n",
       "    'purchase_price': 1.5,\n",
       "    'current_price': 1.6},\n",
       "   {'ticker': 'ADA',\n",
       "    'quantity': 1000,\n",
       "    'purchase_price': 1.5,\n",
       "    'current_price': 1.6}],\n",
       "  'stablecoins': [{'identifier': 'USDC',\n",
       "    'quantity': 10000,\n",
       "    'purchase_price': 1.0,\n",
       "    'current_price': 1.0,\n",
       "    'peg_currency': 'USD'}],\n",
       "  'nfts': [{'name': 'CryptoArt 123',\n",
       "    'quantity': 1,\n",
       "    'purchase_price': 5000.0,\n",
       "    'current_price': 5500.0}]},\n",
       " 'cash_holdings_usd': 10000.0,\n",
       " 'investment_goals': {'retirement': 2035, 'education': 2025}}"
      ]
     },
     "execution_count": 26,
     "metadata": {},
     "output_type": "execute_result"
    }
   ],
   "source": [
    "# Q3: Update Data Task: Update the quantity of \"ETH\" token to 60.\n",
    "crypto_portfolio[\"assets\"][\"tokens\"][0][\"quantity\"] = 60\n",
    "\n",
    "crypto_portfolio"
   ]
  },
  {
   "cell_type": "code",
   "execution_count": 30,
   "id": "23894ed1",
   "metadata": {},
   "outputs": [
    {
     "data": {
      "text/plain": [
       "{'investor_name': 'Jane Doe',\n",
       " 'portfolio_id': 'JD1234',\n",
       " 'assets': {'tokens': [{'ticker': 'ETH',\n",
       "    'quantity': 60,\n",
       "    'purchase_price': 2000.0,\n",
       "    'current_price': 2100.0},\n",
       "   {'ticker': 'BTC',\n",
       "    'quantity': 30,\n",
       "    'purchase_price': 40000.0,\n",
       "    'current_price': 41000.0},\n",
       "   {'ticker': 'ADA',\n",
       "    'quantity': 1000,\n",
       "    'purchase_price': 1.5,\n",
       "    'current_price': 1.6},\n",
       "   {'ticker': 'ADA',\n",
       "    'quantity': 1000,\n",
       "    'purchase_price': 1.5,\n",
       "    'current_price': 1.6}],\n",
       "  'stablecoins': [],\n",
       "  'nfts': [{'name': 'CryptoArt 123',\n",
       "    'quantity': 1,\n",
       "    'purchase_price': 5000.0,\n",
       "    'current_price': 5500.0}]},\n",
       " 'cash_holdings_usd': 10000.0,\n",
       " 'investment_goals': {'retirement': 2035, 'education': 2025}}"
      ]
     },
     "execution_count": 30,
     "metadata": {},
     "output_type": "execute_result"
    }
   ],
   "source": [
    "crypto_portfolio"
   ]
  },
  {
   "cell_type": "code",
   "execution_count": null,
   "id": "7fd655c7",
   "metadata": {},
   "outputs": [],
   "source": [
    "# Q5: Read Nested Data  Task: Display the peg currency of the stablecoin in the portfolio.\n",
    "\n",
    "\n",
    "del crypto_portfolio[\"assets\"][\"tokens\"][2]"
   ]
  },
  {
   "cell_type": "code",
   "execution_count": 37,
   "id": "4dfa0852",
   "metadata": {},
   "outputs": [
    {
     "data": {
      "text/plain": [
       "{'investor_name': 'Jane Doe',\n",
       " 'portfolio_id': 'JD1234',\n",
       " 'assets': {'tokens': [{'ticker': 'ETH',\n",
       "    'quantity': 60,\n",
       "    'purchase_price': 2000.0,\n",
       "    'current_price': 2100.0},\n",
       "   {'ticker': 'BTC',\n",
       "    'quantity': 30,\n",
       "    'purchase_price': 40000.0,\n",
       "    'current_price': 41500.0},\n",
       "   {'ticker': 'ADA',\n",
       "    'quantity': 1000,\n",
       "    'purchase_price': 1.5,\n",
       "    'current_price': 1.6}],\n",
       "  'stablecoins': [],\n",
       "  'nfts': [{'name': 'CryptoArt 123',\n",
       "    'quantity': 1,\n",
       "    'purchase_price': 5000.0,\n",
       "    'current_price': 5500.0}]},\n",
       " 'cash_holdings_usd': 10000.0,\n",
       " 'investment_goals': {'retirement': 2035, 'education': 2025}}"
      ]
     },
     "execution_count": 37,
     "metadata": {},
     "output_type": "execute_result"
    }
   ],
   "source": [
    "# Q6: Update Nested Data Task: Change the current price of \"BTC\" token to 41500.00.\n",
    "\n",
    "crypto_portfolio[\"assets\"][\"tokens\"][1][\"current_price\"] = 41500.00\n",
    "\n",
    "crypto_portfolio"
   ]
  },
  {
   "cell_type": "code",
   "execution_count": 43,
   "id": "5d74a12a",
   "metadata": {},
   "outputs": [
    {
     "data": {
      "text/plain": [
       "{'investor_name': 'Jane Doe',\n",
       " 'portfolio_id': 'JD1234',\n",
       " 'assets': {'tokens': [{'ticker': 'ETH',\n",
       "    'quantity': 60,\n",
       "    'purchase_price': 2000.0,\n",
       "    'current_price': 2100.0},\n",
       "   {'ticker': 'BTC',\n",
       "    'quantity': 30,\n",
       "    'purchase_price': 40000.0,\n",
       "    'current_price': 41500.0},\n",
       "   {'ticker': 'ADA',\n",
       "    'quantity': 1000,\n",
       "    'purchase_price': 1.5,\n",
       "    'current_price': 1.6}],\n",
       "  'stablecoins': [],\n",
       "  'nfts': [{'name': 'CryptoArt 123',\n",
       "    'quantity': 1,\n",
       "    'purchase_price': 5000.0,\n",
       "    'current_price': 5500.0}]},\n",
       " 'cash_holdings_usd': 10000.0,\n",
       " 'investment_goals': {'retirement': 2035, 'education': 2025, 'vacation': 2028}}"
      ]
     },
     "execution_count": 43,
     "metadata": {},
     "output_type": "execute_result"
    }
   ],
   "source": [
    "# Q7: Add Nested Data Task: Add a new goal \"vacation\" set for the year 2028 in the investment goals.\n",
    "\n",
    "crypto_portfolio[\"investment_goals\"].update(\n",
    "        {\"vacation\":2028}    \n",
    ")\n",
    "\n",
    "crypto_portfolio\n"
   ]
  },
  {
   "cell_type": "code",
   "execution_count": 45,
   "id": "de819e77",
   "metadata": {},
   "outputs": [
    {
     "data": {
      "text/plain": [
       "{'investor_name': 'Jane Doe',\n",
       " 'portfolio_id': 'JD1234',\n",
       " 'assets': {'tokens': [{'ticker': 'ETH',\n",
       "    'quantity': 60,\n",
       "    'purchase_price': 2000.0,\n",
       "    'current_price': 2100.0},\n",
       "   {'ticker': 'BTC',\n",
       "    'quantity': 30,\n",
       "    'purchase_price': 40000.0,\n",
       "    'current_price': 41500.0},\n",
       "   {'ticker': 'ADA',\n",
       "    'quantity': 1000,\n",
       "    'purchase_price': 1.5,\n",
       "    'current_price': 1.6}],\n",
       "  'stablecoins': [],\n",
       "  'nfts': []},\n",
       " 'cash_holdings_usd': 10000.0,\n",
       " 'investment_goals': {'retirement': 2035, 'education': 2025, 'vacation': 2028}}"
      ]
     },
     "execution_count": 45,
     "metadata": {},
     "output_type": "execute_result"
    }
   ],
   "source": [
    "# Q8: Delete an Item from a List Inside a Dictionary  Task: Remove the NFT \"CryptoArt 123\" from the portfolio.\n",
    "del crypto_portfolio[\"assets\"][\"nfts\"][0]\n",
    "\n",
    "crypto_portfolio"
   ]
  },
  {
   "cell_type": "markdown",
   "id": "dd7f579b",
   "metadata": {},
   "source": [
    "## Problem 3: Blockchain Market Analysis\n",
    "This data structure represents an analysis of blockchain ecosystems, including protocols and their token performance.\n"
   ]
  },
  {
   "cell_type": "code",
   "execution_count": 1,
   "id": "bb2c3c83",
   "metadata": {},
   "outputs": [],
   "source": [
    "blockchain_analysis = {\n",
    "    \"ecosystems\": {\n",
    "        \"DeFi\": {\n",
    "            \"protocols\": [\n",
    "                {\"name\": \"Protocol A\", \"ticker\": \"PDA\", \"price_change\": 5.2},\n",
    "                {\"name\": \"Protocol B\", \"ticker\": \"PDB\", \"price_change\": -3.1}\n",
    "            ]\n",
    "        },\n",
    "        \"NFTs\": {\n",
    "            \"protocols\": [\n",
    "                {\"name\": \"NFT Market A\", \"ticker\": \"NMA\", \"price_change\": 4.0},\n",
    "                {\"name\": \"NFT Market B\", \"ticker\": \"NMB\", \"price_change\": 2.5}\n",
    "            ]\n",
    "        }\n",
    "    },\n",
    "    \"market_performance\": {\n",
    "        \"Crypto Index\": {\"change\": 1.5},\n",
    "        \"DeFi Index\": {\"change\": 2.3},\n",
    "        \"NFT Index\": {\"change\": -1.2}\n",
    "    },\n",
    "    \"notable_events\": [\n",
    "        (\"2024-01-10\", \"Network Upgrade\", \"Ethereum completes sharding upgrade\"),\n",
    "        (\"2024-01-15\", \"Token Launch\", \"Protocol A launches governance token\")\n",
    "    ]\n",
    "}"
   ]
  },
  {
   "cell_type": "code",
   "execution_count": 6,
   "id": "78a2726a",
   "metadata": {},
   "outputs": [
    {
     "data": {
      "text/plain": [
       "2.5"
      ]
     },
     "execution_count": 6,
     "metadata": {},
     "output_type": "execute_result"
    }
   ],
   "source": [
    "# Q1: Read Data Task: Display the price change of \"NFT Market B\".\n",
    "\n",
    "blockchain_analysis[\"ecosystems\"][\"NFTs\"][\"protocols\"][1][\"price_change\"]\n"
   ]
  },
  {
   "cell_type": "code",
   "execution_count": 13,
   "id": "a5c23b0c",
   "metadata": {},
   "outputs": [
    {
     "data": {
      "text/plain": [
       "{'ecosystems': {'DeFi': {'protocols': [{'name': 'Protocol A',\n",
       "     'ticker': 'PDA',\n",
       "     'price_change': 5.2},\n",
       "    {'name': 'Protocol B', 'ticker': 'PDB', 'price_change': -3.1}]},\n",
       "  'NFTs': {'protocols': [{'name': 'NFT Market A',\n",
       "     'ticker': 'NMA',\n",
       "     'price_change': 4.0},\n",
       "    {'name': 'NFT Market B', 'ticker': 'NMB', 'price_change': 2.5}]},\n",
       "  'Layer 2': {'protocols': [{'data.pyname': 'Layer 2 Protocol',\n",
       "     'ticker': 'L2A',\n",
       "     'price_change': -2.0}]}},\n",
       " 'market_performance': {'Crypto Index': {'change': 1.5},\n",
       "  'DeFi Index': {'change': 2.3},\n",
       "  'NFT Index': {'change': -1.2}},\n",
       " 'notable_events': [('2024-01-10',\n",
       "   'Network Upgrade',\n",
       "   'Ethereum completes sharding upgrade'),\n",
       "  ('2024-01-15', 'Token Launch', 'Protocol A launches governance token')]}"
      ]
     },
     "execution_count": 13,
     "metadata": {},
     "output_type": "execute_result"
    }
   ],
   "source": [
    "# Q2: Write Data Task: Add a new ecosystem \"Layer 2\" with one protocol \"Layer 2 Protocol A\" having a ticker \"L2A\" and a price change of -2.0.\n",
    "blockchain_analysis[\"ecosystems\"].update(\n",
    "    {\"Layer 2\":{\n",
    "        \"protocols\": [\n",
    "            {\"data.pyname\": \"Layer 2 Protocol\", \"ticker\":\"L2A\", \"price_change\": -2.0}\n",
    "     ]\n",
    "        \n",
    "    }}\n",
    ")\n",
    "\n",
    "blockchain_analysis"
   ]
  },
  {
   "cell_type": "code",
   "execution_count": 21,
   "id": "94cb027a",
   "metadata": {},
   "outputs": [
    {
     "data": {
      "text/plain": [
       "{'ecosystems': {'DeFi': {'protocols': [{'name': 'Protocol A',\n",
       "     'ticker': 'PDA',\n",
       "     'price_change': 6.0},\n",
       "    {'name': 'Protocol B', 'ticker': 'PDB', 'price_change': -3.1}]},\n",
       "  'NFTs': {'protocols': [{'name': 'NFT Market A',\n",
       "     'ticker': 'NMA',\n",
       "     'price_change': 4.0},\n",
       "    {'name': 'NFT Market B', 'ticker': 'NMB', 'price_change': 2.5}]},\n",
       "  'Layer 2': {'protocols': [{'data.pyname': 'Layer 2 Protocol',\n",
       "     'ticker': 'L2A',\n",
       "     'price_change': -2.0}]}},\n",
       " 'market_performance': {'Crypto Index': {'change': 1.5},\n",
       "  'DeFi Index': {'change': 2.3},\n",
       "  'NFT Index': {'change': -1.2}},\n",
       " 'notable_events': [('2024-01-10',\n",
       "   'Network Upgrade',\n",
       "   'Ethereum completes sharding upgrade'),\n",
       "  ('2024-01-15', 'Token Launch', 'Protocol A launches governance token')]}"
      ]
     },
     "execution_count": 21,
     "metadata": {},
     "output_type": "execute_result"
    }
   ],
   "source": [
    "# Q3: Update Data Task: Update the price change of \"Protocol A\" to 6.0.\n",
    "blockchain_analysis[\"ecosystems\"][\"DeFi\"][\"protocols\"][0][\"price_change\"]=6.0\n",
    "\n",
    "blockchain_analysis"
   ]
  },
  {
   "cell_type": "code",
   "execution_count": 31,
   "id": "6023c474",
   "metadata": {},
   "outputs": [
    {
     "data": {
      "text/plain": [
       "{'ecosystems': {'DeFi': {'protocols': [{'name': 'Protocol A',\n",
       "     'ticker': 'PDA',\n",
       "     'price_change': 6.0},\n",
       "    {'name': 'Protocol B', 'ticker': 'PDB', 'price_change': -3.1}]},\n",
       "  'NFTs': {'protocols': [{'name': 'NFT Market A',\n",
       "     'ticker': 'NMA',\n",
       "     'price_change': 4.0},\n",
       "    {'name': 'NFT Market B', 'ticker': 'NMB', 'price_change': 2.5}]},\n",
       "  'Layer 2': {'protocols': [{'data.pyname': 'Layer 2 Protocol',\n",
       "     'ticker': 'L2A',\n",
       "     'price_change': -2.0}]}},\n",
       " 'market_performance': {'Crypto Index': {'change': 1.5},\n",
       "  'DeFi Index': {'change': 2.3}},\n",
       " 'notable_events': [('2024-01-10',\n",
       "   'Network Upgrade',\n",
       "   'Ethereum completes sharding upgrade'),\n",
       "  ('2024-01-15', 'Token Launch', 'Protocol A launches governance token')]}"
      ]
     },
     "execution_count": 31,
     "metadata": {},
     "output_type": "execute_result"
    }
   ],
   "source": [
    "# Q4: Delete Data Task: Remove the \"NFT Index\" from market_performance.\n",
    "del blockchain_analysis[\"market_performance\"][\"NFT Index\"]\n",
    "\n",
    "blockchain_analysis"
   ]
  },
  {
   "cell_type": "code",
   "execution_count": 32,
   "id": "1166bdd9",
   "metadata": {},
   "outputs": [
    {
     "data": {
      "text/plain": [
       "{'change': 2.3}"
      ]
     },
     "execution_count": 32,
     "metadata": {},
     "output_type": "execute_result"
    }
   ],
   "source": [
    "# Q5: Read Nested Data Task: Display the change in \"DeFi Index\" performance.\n",
    "\n",
    "blockchain_analysis[\"market_performance\"][\"DeFi Index\"]"
   ]
  },
  {
   "cell_type": "code",
   "execution_count": 35,
   "id": "806ccd3a",
   "metadata": {},
   "outputs": [
    {
     "data": {
      "text/plain": [
       "{'ecosystems': {'DeFi': {'protocols': [{'name': 'Protocol A',\n",
       "     'ticker': 'PDA',\n",
       "     'price_change': 6.0},\n",
       "    {'name': 'Protocol B', 'ticker': 'PDB', 'price_change': -3.1}]},\n",
       "  'NFTs': {'protocols': [{'name': 'NFT Market Alpha',\n",
       "     'ticker': 'NMA',\n",
       "     'price_change': 4.0},\n",
       "    {'name': 'NFT Market B', 'ticker': 'NMB', 'price_change': 2.5}]},\n",
       "  'Layer 2': {'protocols': [{'data.pyname': 'Layer 2 Protocol',\n",
       "     'ticker': 'L2A',\n",
       "     'price_change': -2.0}]}},\n",
       " 'market_performance': {'Crypto Index': {'change': 1.5},\n",
       "  'DeFi Index': {'change': 2.3}},\n",
       " 'notable_events': [('2024-01-10',\n",
       "   'Network Upgrade',\n",
       "   'Ethereum completes sharding upgrade'),\n",
       "  ('2024-01-15', 'Token Launch', 'Protocol A launches governance token')]}"
      ]
     },
     "execution_count": 35,
     "metadata": {},
     "output_type": "execute_result"
    }
   ],
   "source": [
    "# Q6: Update Nested Data Task: Change the name of \"NFT Market A\" to \"NFT Market Alpha\".\n",
    "blockchain_analysis[\"ecosystems\"][\"NFTs\"][\"protocols\"][0][\"name\"]= \"NFT Market Alpha\"\n",
    "\n",
    "blockchain_analysis"
   ]
  },
  {
   "cell_type": "code",
   "execution_count": 41,
   "id": "99be9843",
   "metadata": {},
   "outputs": [
    {
     "data": {
      "text/plain": [
       "{'ecosystems': {'DeFi': {'protocols': [{'name': 'Protocol A',\n",
       "     'ticker': 'PDA',\n",
       "     'price_change': 6.0},\n",
       "    {'name': 'Protocol B', 'ticker': 'PDB', 'price_change': -3.1}]},\n",
       "  'NFTs': {'protocols': [{'name': 'NFT Market Alpha',\n",
       "     'ticker': 'NMA',\n",
       "     'price_change': 4.0},\n",
       "    {'name': 'NFT Market B', 'ticker': 'NMB', 'price_change': 2.5}]},\n",
       "  'Layer 2': {'protocols': [{'data.pyname': 'Layer 2 Protocol',\n",
       "     'ticker': 'L2A',\n",
       "     'price_change': -2.0}]}},\n",
       " 'market_performance': {'Crypto Index': {'change': 1.5},\n",
       "  'DeFi Index': {'change': 2.3}},\n",
       " 'notable_events': [('2024-01-10',\n",
       "   'Network Upgrade',\n",
       "   'Ethereum completes sharding upgrade'),\n",
       "  ('2024-01-15', 'Token Launch', 'Protocol A launches governance token'),\n",
       "  {'2024-01-20', 'Partnership', 'Protocol B partners with major blockchain'},\n",
       "  ('2024-01-20', 'Partnership', 'Protocol B partners with major blockchain')]}"
      ]
     },
     "execution_count": 41,
     "metadata": {},
     "output_type": "execute_result"
    }
   ],
   "source": [
    "# Q7: Add Nested Data Task: Add a new notable event on \"2024-01-20\" stating \"Partnership\", with the description \"Protocol B partners with major blockchain\".\n",
    "blockchain_analysis[\"notable_events\"].append(\n",
    "    (\n",
    "        \"2024-01-20\", \"Partnership\", \"Protocol B partners with major blockchain\"\n",
    "    )\n",
    "    \n",
    ")\n",
    "\n",
    "blockchain_analysis"
   ]
  },
  {
   "cell_type": "code",
   "execution_count": 46,
   "id": "f3d8c10c",
   "metadata": {},
   "outputs": [
    {
     "data": {
      "text/plain": [
       "{'ecosystems': {'DeFi': {'protocols': [{'name': 'Protocol A',\n",
       "     'ticker': 'PDA',\n",
       "     'price_change': 6.0},\n",
       "    {'name': 'Protocol B', 'ticker': 'PDB', 'price_change': -3.1}]},\n",
       "  'NFTs': {'protocols': [{'name': 'NFT Market Alpha',\n",
       "     'ticker': 'NMA',\n",
       "     'price_change': 4.0},\n",
       "    {'name': 'NFT Market B', 'ticker': 'NMB', 'price_change': 2.5}]},\n",
       "  'Layer 2': {'protocols': [{'data.pyname': 'Layer 2 Protocol',\n",
       "     'ticker': 'L2A',\n",
       "     'price_change': -2.0}]}},\n",
       " 'market_performance': {'Crypto Index': {'change': 1.5},\n",
       "  'DeFi Index': {'change': 2.3}},\n",
       " 'notable_events': []}"
      ]
     },
     "execution_count": 46,
     "metadata": {},
     "output_type": "execute_result"
    }
   ],
   "source": [
    "# Q8: Delete an Item from a List Inside a Dictionary Task: Remove the first notable event from the list.\n",
    "\n",
    "blockchain_analysis[\"notable_events\"].pop(0)\n",
    "\n",
    "blockchain_analysis"
   ]
  },
  {
   "cell_type": "markdown",
   "id": "5e7f192f",
   "metadata": {},
   "source": [
    "## Problem 4: Cryptocurrency Exchange Rates\n",
    "This data structure tracks cryptocurrency exchange rates relative to a base stablecoin.\n"
   ]
  },
  {
   "cell_type": "code",
   "execution_count": 47,
   "id": "bd36464b",
   "metadata": {},
   "outputs": [],
   "source": [
    "crypto_exchange = {\n",
    "    \"base_currency\": \"USDT\",\n",
    "    \"exchange_rates\": {\n",
    "        \"ETH\": {\n",
    "            \"current_rate\": 0.0005,\n",
    "            \"historical_rates\": [\n",
    "                {\"date\": \"2024-01-10\", \"rate\": 0.00048},\n",
    "                {\"date\": \"2024-01-09\", \"rate\": 0.00049}\n",
    "            ]\n",
    "        },\n",
    "        \"BTC\": {\n",
    "            \"current_rate\": 0.000025,\n",
    "            \"historical_rates\": [\n",
    "                {\"date\": \"2024-01-10\", \"rate\": 0.000024},\n",
    "                {\"date\": \"2024-01-09\", \"rate\": 0.000026}\n",
    "            ]\n",
    "        }\n",
    "    }\n",
    "}\n"
   ]
  },
  {
   "cell_type": "code",
   "execution_count": 48,
   "id": "d3e5197e",
   "metadata": {},
   "outputs": [
    {
     "data": {
      "text/plain": [
       "0.0005"
      ]
     },
     "execution_count": 48,
     "metadata": {},
     "output_type": "execute_result"
    }
   ],
   "source": [
    "# Q1: Read Data Task: Display the current exchange rate for ETH.\n",
    "crypto_exchange[\"exchange_rates\"][\"ETH\"][\"current_rate\"]"
   ]
  },
  {
   "cell_type": "code",
   "execution_count": 50,
   "id": "0eeba16b",
   "metadata": {},
   "outputs": [
    {
     "data": {
      "text/plain": [
       "{'base_currency': 'USDT',\n",
       " 'exchange_rates': {'ETH': {'current_rate': 0.0005,\n",
       "   'historical_rates': [{'date': '2024-01-10', 'rate': 0.00048},\n",
       "    {'date': '2024-01-09', 'rate': 0.00049}]},\n",
       "  'BTC': {'current_rate': 2.5e-05,\n",
       "   'historical_rates': [{'date': '2024-01-10', 'rate': 2.4e-05},\n",
       "    {'date': '2024-01-09', 'rate': 2.6e-05}]},\n",
       "  'ADA': {'current_price': 0.0015,\n",
       "   'historical_rates': [{'date': '2024-01-10', 'rate': 0.0016},\n",
       "    {'date': '2024-01-09', 'rate': 0.0017}]}}}"
      ]
     },
     "execution_count": 50,
     "metadata": {},
     "output_type": "execute_result"
    }
   ],
   "source": [
    "# Q2: Write Data  Task: Add a new currency \"ADA\" with a current rate of 0.0015 and two historical rates: 0.0016 on \"2024-01-10\" and 0.0017 on \"2024-01-09\".\n",
    "\n",
    "crypto_exchange[\"exchange_rates\"].update(\n",
    "    {\n",
    "        \"ADA\": {\n",
    "            \"current_price\": 0.0015,\n",
    "            \"historical_rates\": [\n",
    "                {\"date\": \"2024-01-10\", \"rate\":0.0016},\n",
    "                {\"date\": \"2024-01-09\", \"rate\":0.0017}\n",
    "            ]\n",
    "        }\n",
    "    }\n",
    ")\n",
    "\n",
    "crypto_exchange"
   ]
  },
  {
   "cell_type": "code",
   "execution_count": 52,
   "id": "f1e078a1",
   "metadata": {},
   "outputs": [
    {
     "data": {
      "text/plain": [
       "{'base_currency': 'USDT',\n",
       " 'exchange_rates': {'ETH': {'current_rate': 0.0005,\n",
       "   'historical_rates': [{'date': '2024-01-10', 'rate': 0.00048},\n",
       "    {'date': '2024-01-09', 'rate': 0.00049}]},\n",
       "  'BTC': {'current_rate': 2.7e-05,\n",
       "   'historical_rates': [{'date': '2024-01-10', 'rate': 2.4e-05},\n",
       "    {'date': '2024-01-09', 'rate': 2.6e-05}]},\n",
       "  'ADA': {'current_price': 0.0015,\n",
       "   'historical_rates': [{'date': '2024-01-10', 'rate': 0.0016},\n",
       "    {'date': '2024-01-09', 'rate': 0.0017}]}}}"
      ]
     },
     "execution_count": 52,
     "metadata": {},
     "output_type": "execute_result"
    }
   ],
   "source": [
    "# Q3: Update Data  Task: Update the current exchange rate of BTC to 0.000027.\n",
    "crypto_exchange[\"exchange_rates\"][\"BTC\"][\"current_rate\"] = 0.000027\n",
    "\n",
    "crypto_exchange"
   ]
  },
  {
   "cell_type": "code",
   "execution_count": 54,
   "id": "9bb6366d",
   "metadata": {},
   "outputs": [
    {
     "data": {
      "text/plain": [
       "{'date': '2024-01-10', 'rate': 2.4e-05}"
      ]
     },
     "execution_count": 54,
     "metadata": {},
     "output_type": "execute_result"
    }
   ],
   "source": [
    "# Q5: Read Nested Data  Task: Display the exchange rate of BTC on \"2024-01-10\".\n",
    "crypto_exchange[\"exchange_rates\"][\"BTC\"][\"historical_rates\"][0]"
   ]
  },
  {
   "cell_type": "code",
   "execution_count": 55,
   "id": "b86f7b57",
   "metadata": {},
   "outputs": [
    {
     "data": {
      "text/plain": [
       "{'base_currency': 'USDT',\n",
       " 'exchange_rates': {'ETH': {'current_rate': 0.0005,\n",
       "   'historical_rates': [{'date': '2024-01-10', 'rate': 0.00047},\n",
       "    {'date': '2024-01-09', 'rate': 0.00049}]},\n",
       "  'BTC': {'current_rate': 2.7e-05,\n",
       "   'historical_rates': [{'date': '2024-01-10', 'rate': 2.4e-05},\n",
       "    {'date': '2024-01-09', 'rate': 2.6e-05}]},\n",
       "  'ADA': {'current_price': 0.0015,\n",
       "   'historical_rates': [{'date': '2024-01-10', 'rate': 0.0016},\n",
       "    {'date': '2024-01-09', 'rate': 0.0017}]}}}"
      ]
     },
     "execution_count": 55,
     "metadata": {},
     "output_type": "execute_result"
    }
   ],
   "source": [
    "# Q6: Update Nested Data  Task: Change the rate of ETH on \"2024-01-10\" to 0.00047.\n",
    "crypto_exchange[\"exchange_rates\"][\"ETH\"][\"historical_rates\"][0][\"rate\"] = 0.00047\n",
    "\n",
    "crypto_exchange"
   ]
  },
  {
   "cell_type": "code",
   "execution_count": 58,
   "id": "4aa2d4b0",
   "metadata": {},
   "outputs": [
    {
     "data": {
      "text/plain": [
       "{'base_currency': 'USDT',\n",
       " 'exchange_rates': {'ETH': {'current_rate': 0.0005,\n",
       "   'historical_rates': [{'date': '2024-01-10', 'rate': 0.00047},\n",
       "    {'date': '2024-01-09', 'rate': 0.00049}]},\n",
       "  'BTC': {'current_rate': 2.7e-05,\n",
       "   'historical_rates': [{'date': '2024-01-10', 'rate': 2.4e-05},\n",
       "    {'date': '2024-01-09', 'rate': 2.6e-05},\n",
       "    {'date': '2024-01-11', 'rate': 2.3e-05}]},\n",
       "  'ADA': {'current_price': 0.0015,\n",
       "   'historical_rates': [{'date': '2024-01-10', 'rate': 0.0016},\n",
       "    {'date': '2024-01-09', 'rate': 0.0017}]}}}"
      ]
     },
     "execution_count": 58,
     "metadata": {},
     "output_type": "execute_result"
    }
   ],
   "source": [
    "# Q7: Add Nested Data  Task: Add a new historical rate for BTC on \"2024-01-11\" with a rate of 0.000023.\n",
    "crypto_exchange[\"exchange_rates\"][\"BTC\"][\"historical_rates\"].append(\n",
    "    {\"date\": \"2024-01-11\", \"rate\":0.000023}\n",
    ")\n",
    "\n",
    "crypto_exchange"
   ]
  },
  {
   "cell_type": "code",
   "execution_count": 59,
   "id": "7dbf6bf0",
   "metadata": {},
   "outputs": [
    {
     "data": {
      "text/plain": [
       "{'base_currency': 'USDT',\n",
       " 'exchange_rates': {'ETH': {'current_rate': 0.0005,\n",
       "   'historical_rates': [{'date': '2024-01-10', 'rate': 0.00047},\n",
       "    {'date': '2024-01-09', 'rate': 0.00049}]},\n",
       "  'BTC': {'current_rate': 2.7e-05,\n",
       "   'historical_rates': [{'date': '2024-01-10', 'rate': 2.4e-05},\n",
       "    {'date': '2024-01-11', 'rate': 2.3e-05}]},\n",
       "  'ADA': {'current_price': 0.0015,\n",
       "   'historical_rates': [{'date': '2024-01-10', 'rate': 0.0016},\n",
       "    {'date': '2024-01-09', 'rate': 0.0017}]}}}"
      ]
     },
     "execution_count": 59,
     "metadata": {},
     "output_type": "execute_result"
    }
   ],
   "source": [
    "# Q8: Delete an Item from a List Inside a Dictionary Task: Remove the historical rate of BTC on \"2024-01-09\".\n",
    "\n",
    "crypto_exchange[\"exchange_rates\"][\"BTC\"][\"historical_rates\"].pop(1)\n",
    "\n",
    "crypto_exchange"
   ]
  },
  {
   "cell_type": "code",
   "execution_count": 62,
   "id": "ac5b0e8d",
   "metadata": {},
   "outputs": [
    {
     "data": {
      "text/plain": [
       "{'base_currency': 'USDT',\n",
       " 'exchange_rates': {'ETH': {'current_rate': 0.0005},\n",
       "  'BTC': {'current_rate': 2.7e-05,\n",
       "   'historical_rates': [{'date': '2024-01-10', 'rate': 2.4e-05},\n",
       "    {'date': '2024-01-11', 'rate': 2.3e-05}]},\n",
       "  'ADA': {'current_price': 0.0015,\n",
       "   'historical_rates': [{'date': '2024-01-10', 'rate': 0.0016},\n",
       "    {'date': '2024-01-09', 'rate': 0.0017}]}}}"
      ]
     },
     "execution_count": 62,
     "metadata": {},
     "output_type": "execute_result"
    }
   ],
   "source": [
    "# Q4: Delete Data  Task: Remove the historical rates for ETH.\n",
    "del crypto_exchange[\"exchange_rates\"][\"ETH\"][\"historical_rates\"]\n",
    "\n",
    "crypto_exchange"
   ]
  },
  {
   "cell_type": "markdown",
   "id": "f1ddebdc",
   "metadata": {},
   "source": [
    "## Problem 5: Crypto Credit Risk Assessment\n",
    "This data structure assesses the credit risk of individuals based on their crypto-related financial profiles."
   ]
  },
  {
   "cell_type": "code",
   "execution_count": 1,
   "id": "504d4cbf",
   "metadata": {},
   "outputs": [],
   "source": [
    "crypto_risk_profiles = {\n",
    "    \"individuals\": [\n",
    "        {\n",
    "            \"name\": \"John Doe\",\n",
    "            \"defi_score\": 750,\n",
    "            \"staked_assets\": {\n",
    "                \"eth_staking\": {\"amount\": 10, \"apy\": 3.5},\n",
    "                \"dot_staking\": {\"amount\": 1000, \"apy\": 2.8}\n",
    "            },\n",
    "            \"transaction_history\": [(\"2024-01-10\", \"Confirmed\"), (\"2024-01-01\", \"Delayed\")]\n",
    "        },\n",
    "        {\n",
    "            \"name\": \"Jane Smith\",\n",
    "            \"defi_score\": 680,\n",
    "            \"staked_assets\": {\n",
    "                \"usdc_lending\": {\"amount\": 5000, \"apy\": 5.0}\n",
    "            },\n",
    "            \"transaction_history\": [(\"2024-01-10\", \"Confirmed\")]\n",
    "        }\n",
    "    ]\n",
    "}\n"
   ]
  },
  {
   "cell_type": "code",
   "execution_count": 7,
   "id": "67634f9f",
   "metadata": {},
   "outputs": [
    {
     "data": {
      "text/plain": [
       "2.8"
      ]
     },
     "execution_count": 7,
     "metadata": {},
     "output_type": "execute_result"
    }
   ],
   "source": [
    "# Q1: Read Data Task: Display the APY for John Doe's DOT staking.\n",
    "crypto_risk_profiles[\"individuals\"][0][\"staked_assets\"][\"dot_staking\"][\"apy\"]"
   ]
  },
  {
   "cell_type": "code",
   "execution_count": 8,
   "id": "c1bbc811",
   "metadata": {},
   "outputs": [
    {
     "data": {
      "text/plain": [
       "{'individuals': [{'name': 'John Doe',\n",
       "   'defi_score': 750,\n",
       "   'staked_assets': {'eth_staking': {'amount': 10, 'apy': 3.5},\n",
       "    'dot_staking': {'amount': 1000, 'apy': 2.8}},\n",
       "   'transaction_history': [('2024-01-10', 'Confirmed'),\n",
       "    ('2024-01-01', 'Delayed')]},\n",
       "  {'name': 'Jane Smith',\n",
       "   'defi_score': 680,\n",
       "   'staked_assets': {'usdc_lending': {'amount': 5000, 'apy': 5.0}},\n",
       "   'transaction_history': [('2024-01-10', 'Confirmed')]},\n",
       "  {'name': 'Alice Johnson', 'defi_score': 720}]}"
      ]
     },
     "execution_count": 8,
     "metadata": {},
     "output_type": "execute_result"
    }
   ],
   "source": [
    "# Q2: Write Data Task: Add a new individual \"Alice Johnson\" with a DeFi score of 720, no staked assets, and no transaction history.\n",
    "\n",
    "crypto_risk_profiles[\"individuals\"].append(\n",
    "    {\n",
    "        \"name\": \"Alice Johnson\",\n",
    "        \"defi_score\": 720\n",
    "    }\n",
    ")\n",
    "\n",
    "crypto_risk_profiles"
   ]
  },
  {
   "cell_type": "code",
   "execution_count": 10,
   "id": "003b9f79",
   "metadata": {},
   "outputs": [
    {
     "data": {
      "text/plain": [
       "{'individuals': [{'name': 'John Doe',\n",
       "   'defi_score': 750,\n",
       "   'staked_assets': {'eth_staking': {'amount': 10, 'apy': 3.5},\n",
       "    'dot_staking': {'amount': 1000, 'apy': 2.8}},\n",
       "   'transaction_history': [('2024-01-10', 'Confirmed'),\n",
       "    ('2024-01-01', 'Delayed')]},\n",
       "  {'name': 'Jane Smith',\n",
       "   'defi_score': 700,\n",
       "   'staked_assets': {'usdc_lending': {'amount': 5000, 'apy': 5.0}},\n",
       "   'transaction_history': [('2024-01-10', 'Confirmed')]},\n",
       "  {'name': 'Alice Johnson', 'defi_score': 720}]}"
      ]
     },
     "execution_count": 10,
     "metadata": {},
     "output_type": "execute_result"
    }
   ],
   "source": [
    "# Q3: Update Data Task: Update Jane Smith's DeFi score to 700.\n",
    "\n",
    "crypto_risk_profiles[\"individuals\"][1][\"defi_score\"] = 700\n",
    "\n",
    "crypto_risk_profiles"
   ]
  },
  {
   "cell_type": "code",
   "execution_count": 11,
   "id": "febd81b3",
   "metadata": {},
   "outputs": [
    {
     "data": {
      "text/plain": [
       "{'individuals': [{'name': 'John Doe',\n",
       "   'defi_score': 750,\n",
       "   'staked_assets': {'dot_staking': {'amount': 1000, 'apy': 2.8}},\n",
       "   'transaction_history': [('2024-01-10', 'Confirmed'),\n",
       "    ('2024-01-01', 'Delayed')]},\n",
       "  {'name': 'Jane Smith',\n",
       "   'defi_score': 700,\n",
       "   'staked_assets': {'usdc_lending': {'amount': 5000, 'apy': 5.0}},\n",
       "   'transaction_history': [('2024-01-10', 'Confirmed')]},\n",
       "  {'name': 'Alice Johnson', 'defi_score': 720}]}"
      ]
     },
     "execution_count": 11,
     "metadata": {},
     "output_type": "execute_result"
    }
   ],
   "source": [
    "# Q4: Delete Data Task: Remove the ETH staking entry from John Doe's staked assets.\n",
    "\n",
    "del crypto_risk_profiles[\"individuals\"][0][\"staked_assets\"][\"eth_staking\"]\n",
    "\n",
    "crypto_risk_profiles\n"
   ]
  },
  {
   "cell_type": "code",
   "execution_count": 12,
   "id": "2f1c863a",
   "metadata": {},
   "outputs": [
    {
     "data": {
      "text/plain": [
       "('2024-01-10', 'Confirmed')"
      ]
     },
     "execution_count": 12,
     "metadata": {},
     "output_type": "execute_result"
    }
   ],
   "source": [
    "# Q5: Read Nested Data  Task: Display the latest transaction status of John Doe.\n",
    "\n",
    "crypto_risk_profiles[\"individuals\"][0][\"transaction_history\"][0]"
   ]
  },
  {
   "cell_type": "code",
   "execution_count": 15,
   "id": "03df7e24",
   "metadata": {},
   "outputs": [
    {
     "data": {
      "text/plain": [
       "{'individuals': [{'name': 'John Doe',\n",
       "   'defi_score': 750,\n",
       "   'staked_assets': {'dot_staking': {'amount': 1000, 'apy': 2.8}},\n",
       "   'transaction_history': [('2024-01-10', 'Confirmed'),\n",
       "    ('2024-01-01', 'Delayed')]},\n",
       "  {'name': 'Jane Smith',\n",
       "   'defi_score': 700,\n",
       "   'staked_assets': {'usdc_lending': {'amount': 5500, 'apy': 5.0}},\n",
       "   'transaction_history': [('2024-01-10', 'Confirmed')]},\n",
       "  {'name': 'Alice Johnson', 'defi_score': 720}]}"
      ]
     },
     "execution_count": 15,
     "metadata": {},
     "output_type": "execute_result"
    }
   ],
   "source": [
    "# Q6: Update Nested Data Task: Change the amount of Jane Smith's USDC lending to 5500.\n",
    "\n",
    "crypto_risk_profiles[\"individuals\"][1][\"staked_assets\"][\"usdc_lending\"][\"amount\"] = 5500\n",
    "\n",
    "crypto_risk_profiles"
   ]
  },
  {
   "cell_type": "code",
   "execution_count": 16,
   "id": "1c78b595",
   "metadata": {},
   "outputs": [
    {
     "data": {
      "text/plain": [
       "{'individuals': [{'name': 'John Doe',\n",
       "   'defi_score': 750,\n",
       "   'staked_assets': {'dot_staking': {'amount': 1000, 'apy': 2.8}},\n",
       "   'transaction_history': [('2024-01-10', 'Confirmed'),\n",
       "    ('2024-01-01', 'Delayed'),\n",
       "    ('2024-01-15', 'Confirmed')]},\n",
       "  {'name': 'Jane Smith',\n",
       "   'defi_score': 700,\n",
       "   'staked_assets': {'usdc_lending': {'amount': 5500, 'apy': 5.0}},\n",
       "   'transaction_history': [('2024-01-10', 'Confirmed')]},\n",
       "  {'name': 'Alice Johnson', 'defi_score': 720}]}"
      ]
     },
     "execution_count": 16,
     "metadata": {},
     "output_type": "execute_result"
    }
   ],
   "source": [
    "# Q7: Add Nested Data  Task: Add a new transaction history entry for John Doe on \"2024-01-15\" marked as \"Confirmed\".\n",
    "crypto_risk_profiles[\"individuals\"][0]['transaction_history'].append(\n",
    "    ('2024-01-15', 'Confirmed')\n",
    ")\n",
    "\n",
    "crypto_risk_profiles"
   ]
  },
  {
   "cell_type": "code",
   "execution_count": 18,
   "id": "bd77430e",
   "metadata": {},
   "outputs": [
    {
     "data": {
      "text/plain": [
       "{'individuals': [{'name': 'John Doe',\n",
       "   'defi_score': 750,\n",
       "   'staked_assets': {'dot_staking': {'amount': 1000, 'apy': 2.8}},\n",
       "   'transaction_history': [('2024-01-10', 'Confirmed'),\n",
       "    ('2024-01-01', 'Delayed'),\n",
       "    ('2024-01-15', 'Confirmed')]},\n",
       "  {'name': 'Jane Smith',\n",
       "   'defi_score': 700,\n",
       "   'staked_assets': {'usdc_lending': {'amount': 5500, 'apy': 5.0}}},\n",
       "  {'name': 'Alice Johnson', 'defi_score': 720}]}"
      ]
     },
     "execution_count": 18,
     "metadata": {},
     "output_type": "execute_result"
    }
   ],
   "source": [
    "# Q8: Delete an Item from a List Inside a Dictionary  Task: Remove the first transaction history entry of Jane Smith.\n",
    "del crypto_risk_profiles['individuals'][1][\"transaction_history\"]\n",
    "\n",
    "crypto_risk_profiles"
   ]
  },
  {
   "cell_type": "markdown",
   "id": "4da1ed9d",
   "metadata": {},
   "source": [
    "## Problem 6: Crypto Hedge Fund Portfolio\n",
    "This data structure represents a crypto hedge fund’s investment portfolio, detailing various types of crypto investments and their performance.\n"
   ]
  },
  {
   "cell_type": "code",
   "execution_count": 19,
   "id": "54a5f521",
   "metadata": {},
   "outputs": [],
   "source": [
    "crypto_hedge_fund = {\n",
    "    \"fund_name\": \"Alpha Crypto Investments\",\n",
    "    \"portfolio_value_usd\": 50000000,\n",
    "    \"investments\": [\n",
    "        {\n",
    "            \"type\": \"Tokens\",\n",
    "            \"holdings\": [\n",
    "                {\"ticker\": \"ETH\", \"quantity\": 10000, \"average_buy_price\": 2000},\n",
    "                {\"ticker\": \"SOL\", \"quantity\": 50000, \"average_buy_price\": 100}\n",
    "            ]\n",
    "        },\n",
    "        {\n",
    "            \"type\": \"Stablecoins\",\n",
    "            \"holdings\": [\n",
    "                {\"coin\": \"USDT\", \"amount\": 10000000, \"apy\": 1.5}\n",
    "            ]\n",
    "        },\n",
    "        {\n",
    "            \"type\": \"Derivatives\",\n",
    "            \"holdings\": [\n",
    "                {\"instrument\": \"Futures\", \"details\": {\"underlying\": \"BTC\", \"type\": \"Perpetual\", \"leverage\": 10}}\n",
    "            ]\n",
    "        }\n",
    "    ],\n",
    "    \"performance_metrics\": {\n",
    "        \"year_to_date_return\": 5.2,\n",
    "        \"five_year_annualized_return\": 7.1\n",
    "    }\n",
    "}"
   ]
  },
  {
   "cell_type": "code",
   "execution_count": 22,
   "id": "bbfaab56",
   "metadata": {},
   "outputs": [
    {
     "data": {
      "text/plain": [
       "50000"
      ]
     },
     "execution_count": 22,
     "metadata": {},
     "output_type": "execute_result"
    }
   ],
   "source": [
    "# Q1: Read Data  Task: Display the quantity of \"SOL\" tokens held in the portfolio.\n",
    "crypto_hedge_fund['investments'][0]['holdings'][1]['quantity']"
   ]
  },
  {
   "cell_type": "code",
   "execution_count": 24,
   "id": "5864c3a1",
   "metadata": {},
   "outputs": [
    {
     "data": {
      "text/plain": [
       "{'fund_name': 'Alpha Crypto Investments',\n",
       " 'portfolio_value_usd': 50000000,\n",
       " 'investments': [{'type': 'Tokens',\n",
       "   'holdings': [{'ticker': 'ETH',\n",
       "     'quantity': 10000,\n",
       "     'average_buy_price': 2000},\n",
       "    {'ticker': 'SOL', 'quantity': 50000, 'average_buy_price': 100}]},\n",
       "  {'type': 'Stablecoins',\n",
       "   'holdings': [{'coin': 'USDT', 'amount': 10000000, 'apy': 1.5}]},\n",
       "  {'type': 'Derivatives',\n",
       "   'holdings': [{'instrument': 'Futures',\n",
       "     'details': {'underlying': 'BTC', 'type': 'Perpetual', 'leverage': 10}}]},\n",
       "  {'type': 'NFTs',\n",
       "   'holdings': [{'nft': 'CryptoPunk 456', 'value': '2000000'}]}],\n",
       " 'performance_metrics': {'year_to_date_return': 5.2,\n",
       "  'five_year_annualized_return': 7.1}}"
      ]
     },
     "execution_count": 24,
     "metadata": {},
     "output_type": "execute_result"
    }
   ],
   "source": [
    "# Q2: Write Data  Task: Add a new investment type \"NFTs\" with one holding of an NFT \"CryptoPunk 456\" valued at 2000000.\n",
    "crypto_hedge_fund['investments'].append(\n",
    "    {\n",
    "        'type': 'NFTs',\n",
    "        'holdings': [{\n",
    "            'nft' : 'CryptoPunk 456', 'value': '2000000'\n",
    "        }]\n",
    "    }\n",
    ")\n",
    "\n",
    "crypto_hedge_fund"
   ]
  },
  {
   "cell_type": "code",
   "execution_count": 25,
   "id": "1946b6ef",
   "metadata": {},
   "outputs": [
    {
     "data": {
      "text/plain": [
       "{'fund_name': 'Alpha Crypto Investments',\n",
       " 'portfolio_value_usd': 51000000,\n",
       " 'investments': [{'type': 'Tokens',\n",
       "   'holdings': [{'ticker': 'ETH',\n",
       "     'quantity': 10000,\n",
       "     'average_buy_price': 2000},\n",
       "    {'ticker': 'SOL', 'quantity': 50000, 'average_buy_price': 100}]},\n",
       "  {'type': 'Stablecoins',\n",
       "   'holdings': [{'coin': 'USDT', 'amount': 10000000, 'apy': 1.5}]},\n",
       "  {'type': 'Derivatives',\n",
       "   'holdings': [{'instrument': 'Futures',\n",
       "     'details': {'underlying': 'BTC', 'type': 'Perpetual', 'leverage': 10}}]},\n",
       "  {'type': 'NFTs',\n",
       "   'holdings': [{'nft': 'CryptoPunk 456', 'value': '2000000'}]}],\n",
       " 'performance_metrics': {'year_to_date_return': 5.2,\n",
       "  'five_year_annualized_return': 7.1}}"
      ]
     },
     "execution_count": 25,
     "metadata": {},
     "output_type": "execute_result"
    }
   ],
   "source": [
    "# Q3: Update Data  Task: Update the portfolio value to 51000000.\n",
    "\n",
    "crypto_hedge_fund['portfolio_value_usd'] = 51000000\n",
    "\n",
    "crypto_hedge_fund"
   ]
  },
  {
   "cell_type": "code",
   "execution_count": 26,
   "id": "5dcfb036",
   "metadata": {},
   "outputs": [],
   "source": [
    "# Q4: Delete Data  Task: Remove the \"Derivatives\" investment from the portfolio.\n",
    "\n",
    "del crypto_hedge_fund['investments'][2]"
   ]
  },
  {
   "cell_type": "code",
   "execution_count": 27,
   "id": "c4789a2c",
   "metadata": {},
   "outputs": [
    {
     "data": {
      "text/plain": [
       "{'fund_name': 'Alpha Crypto Investments',\n",
       " 'portfolio_value_usd': 51000000,\n",
       " 'investments': [{'type': 'Tokens',\n",
       "   'holdings': [{'ticker': 'ETH',\n",
       "     'quantity': 10000,\n",
       "     'average_buy_price': 2000},\n",
       "    {'ticker': 'SOL', 'quantity': 50000, 'average_buy_price': 100}]},\n",
       "  {'type': 'Stablecoins',\n",
       "   'holdings': [{'coin': 'USDT', 'amount': 10000000, 'apy': 1.5}]},\n",
       "  {'type': 'NFTs',\n",
       "   'holdings': [{'nft': 'CryptoPunk 456', 'value': '2000000'}]}],\n",
       " 'performance_metrics': {'year_to_date_return': 5.2,\n",
       "  'five_year_annualized_return': 7.1}}"
      ]
     },
     "execution_count": 27,
     "metadata": {},
     "output_type": "execute_result"
    }
   ],
   "source": [
    "crypto_hedge_fund"
   ]
  },
  {
   "cell_type": "code",
   "execution_count": 29,
   "id": "94e6f35c",
   "metadata": {},
   "outputs": [
    {
     "data": {
      "text/plain": [
       "1.5"
      ]
     },
     "execution_count": 29,
     "metadata": {},
     "output_type": "execute_result"
    }
   ],
   "source": [
    "# Q5: Read Nested Data  Task: Display the APY of the \"USDT\" stablecoin.\n",
    "\n",
    "crypto_hedge_fund['investments'][1]['holdings'][0]['apy']"
   ]
  },
  {
   "cell_type": "code",
   "execution_count": 31,
   "id": "67a49e90",
   "metadata": {},
   "outputs": [
    {
     "data": {
      "text/plain": [
       "{'fund_name': 'Alpha Crypto Investments',\n",
       " 'portfolio_value_usd': 51000000,\n",
       " 'investments': [{'type': 'Tokens',\n",
       "   'holdings': [{'ticker': 'ETH',\n",
       "     'quantity': 10000,\n",
       "     'average_buy_price': 2100},\n",
       "    {'ticker': 'SOL', 'quantity': 50000, 'average_buy_price': 100}]},\n",
       "  {'type': 'Stablecoins',\n",
       "   'holdings': [{'coin': 'USDT', 'amount': 10000000, 'apy': 1.5}]},\n",
       "  {'type': 'NFTs',\n",
       "   'holdings': [{'nft': 'CryptoPunk 456', 'value': '2000000'}]}],\n",
       " 'performance_metrics': {'year_to_date_return': 5.2,\n",
       "  'five_year_annualized_return': 7.1}}"
      ]
     },
     "execution_count": 31,
     "metadata": {},
     "output_type": "execute_result"
    }
   ],
   "source": [
    "# Q6: Update Nested Data  Task: Change the average buy price of \"ETH\" tokens to 2100.\n",
    "crypto_hedge_fund['investments'][0]['holdings'][0]['average_buy_price'] = 2100\n",
    "\n",
    "crypto_hedge_fund"
   ]
  },
  {
   "cell_type": "code",
   "execution_count": 34,
   "id": "1fcae58e",
   "metadata": {},
   "outputs": [
    {
     "data": {
      "text/plain": [
       "{'fund_name': 'Alpha Crypto Investments',\n",
       " 'portfolio_value_usd': 51000000,\n",
       " 'investments': [{'type': 'Tokens',\n",
       "   'holdings': [{'ticker': 'ETH',\n",
       "     'quantity': 10000,\n",
       "     'average_buy_price': 2100},\n",
       "    {'ticker': 'SOL', 'quantity': 50000, 'average_buy_price': 100},\n",
       "    {'ticker': 'ADA', 'quantity': 100000, 'average_buy_price': 100}]},\n",
       "  {'type': 'Stablecoins',\n",
       "   'holdings': [{'coin': 'USDT', 'amount': 10000000, 'apy': 1.5}]},\n",
       "  {'type': 'NFTs',\n",
       "   'holdings': [{'nft': 'CryptoPunk 456', 'value': '2000000'}]}],\n",
       " 'performance_metrics': {'year_to_date_return': 5.2,\n",
       "  'five_year_annualized_return': 7.1}}"
      ]
     },
     "execution_count": 34,
     "metadata": {},
     "output_type": "execute_result"
    }
   ],
   "source": [
    "# Q7: Add Nested Data  Task: Add a new token holding for \"ADA\" with a quantity of 100000 and an average buy price of 1.5.\n",
    "\n",
    "crypto_hedge_fund['investments'][0]['holdings'].append(\n",
    "    {\n",
    "        'ticker': 'ADA', 'quantity': 100000, 'average_buy_price': 100\n",
    "    }\n",
    ")\n",
    "\n",
    "crypto_hedge_fund"
   ]
  },
  {
   "cell_type": "code",
   "execution_count": 38,
   "id": "29feb6d8",
   "metadata": {},
   "outputs": [
    {
     "data": {
      "text/plain": [
       "{'fund_name': 'Alpha Crypto Investments',\n",
       " 'portfolio_value_usd': 51000000,\n",
       " 'investments': [{'type': 'Tokens',\n",
       "   'holdings': [{'ticker': 'SOL', 'quantity': 50000, 'average_buy_price': 100},\n",
       "    {'ticker': 'ADA', 'quantity': 100000, 'average_buy_price': 100}]},\n",
       "  {'type': 'Stablecoins',\n",
       "   'holdings': [{'coin': 'USDT', 'amount': 10000000, 'apy': 1.5}]},\n",
       "  {'type': 'NFTs',\n",
       "   'holdings': [{'nft': 'CryptoPunk 456', 'value': '2000000'}]}],\n",
       " 'performance_metrics': {'year_to_date_return': 5.2,\n",
       "  'five_year_annualized_return': 7.1}}"
      ]
     },
     "execution_count": 38,
     "metadata": {},
     "output_type": "execute_result"
    }
   ],
   "source": [
    "# Q8: Delete an Item from a List Inside a Dictionary  Task: Remove the first holding (ETH) under the \"Tokens\" type.\n",
    "\n",
    "del crypto_hedge_fund['investments'][0]['holdings'][0]\n",
    "\n",
    "crypto_hedge_fund"
   ]
  },
  {
   "cell_type": "code",
   "execution_count": null,
   "id": "24a301b8",
   "metadata": {},
   "outputs": [],
   "source": []
  }
 ],
 "metadata": {
  "kernelspec": {
   "display_name": "Python (venv)",
   "language": "python",
   "name": "venv"
  },
  "language_info": {
   "codemirror_mode": {
    "name": "ipython",
    "version": 3
   },
   "file_extension": ".py",
   "mimetype": "text/x-python",
   "name": "python",
   "nbconvert_exporter": "python",
   "pygments_lexer": "ipython3",
   "version": "3.11.9"
  }
 },
 "nbformat": 4,
 "nbformat_minor": 5
}
